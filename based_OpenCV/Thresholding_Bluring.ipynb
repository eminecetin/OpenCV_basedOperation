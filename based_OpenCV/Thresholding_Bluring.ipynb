{
 "cells": [
  {
   "cell_type": "code",
   "execution_count": 2,
   "id": "d5e0ec77",
   "metadata": {},
   "outputs": [],
   "source": [
    "import cv2\n",
    "import numpy as np"
   ]
  },
  {
   "cell_type": "code",
   "execution_count": 3,
   "id": "ef50e675",
   "metadata": {},
   "outputs": [
    {
     "name": "stdout",
     "output_type": "stream",
     "text": [
      "[[[ 78  44  38]\n",
      "  [ 78  44  38]\n",
      "  [ 78  44  38]\n",
      "  ...\n",
      "  [ 63  39 129]\n",
      "  [ 62  40 129]\n",
      "  [ 63  41 130]]\n",
      "\n",
      " [[ 78  44  38]\n",
      "  [ 78  44  38]\n",
      "  [ 78  44  38]\n",
      "  ...\n",
      "  [ 64  40 129]\n",
      "  [ 63  41 129]\n",
      "  [ 63  41 130]]\n",
      "\n",
      " [[ 78  44  38]\n",
      "  [ 78  44  38]\n",
      "  [ 78  44  38]\n",
      "  ...\n",
      "  [ 64  40 129]\n",
      "  [ 63  41 130]\n",
      "  [ 63  41 130]]\n",
      "\n",
      " ...\n",
      "\n",
      " [[ 49  14  24]\n",
      "  [ 49  14  24]\n",
      "  [ 49  14  24]\n",
      "  ...\n",
      "  [114 162 240]\n",
      "  [114 162 240]\n",
      "  [114 162 240]]\n",
      "\n",
      " [[ 49  14  24]\n",
      "  [ 49  14  24]\n",
      "  [ 49  14  24]\n",
      "  ...\n",
      "  [114 162 240]\n",
      "  [114 162 240]\n",
      "  [115 162 241]]\n",
      "\n",
      " [[ 49  14  24]\n",
      "  [ 49  14  24]\n",
      "  [ 49  14  24]\n",
      "  ...\n",
      "  [114 162 240]\n",
      "  [114 163 241]\n",
      "  [114 163 241]]]\n"
     ]
    }
   ],
   "source": [
    "#Resmi yükleme işlemi\n",
    "image=cv2.imread('DataCV2/gradient.png')\n",
    "print(image)"
   ]
  },
  {
   "cell_type": "code",
   "execution_count": 4,
   "id": "69cc2557",
   "metadata": {},
   "outputs": [
    {
     "data": {
      "text/plain": [
       "-1"
      ]
     },
     "execution_count": 4,
     "metadata": {},
     "output_type": "execute_result"
    }
   ],
   "source": [
    "cv2.imshow('image',image)\n",
    "cv2.waitKey(0)"
   ]
  },
  {
   "cell_type": "code",
   "execution_count": 5,
   "id": "abdf7c31",
   "metadata": {},
   "outputs": [
    {
     "name": "stdout",
     "output_type": "stream",
     "text": [
      "[[ 46  46  46 ...  82  82  84]\n",
      " [ 46  46  46 ...  82  82  84]\n",
      " [ 46  46  46 ...  82  84  84]\n",
      " ...\n",
      " [ 21  21  21 ... 186 186 186]\n",
      " [ 21  21  21 ... 186 186 186]\n",
      " [ 21  21  21 ... 186 186 186]]\n"
     ]
    }
   ],
   "source": [
    "# Resmimizi gri tonlamalı olarak yükleyin\n",
    "image1=cv2.imread('DataCV2/gradient.png',0)\n",
    "print(image1)"
   ]
  },
  {
   "cell_type": "code",
   "execution_count": 6,
   "id": "6c596eb2",
   "metadata": {},
   "outputs": [
    {
     "data": {
      "text/plain": [
       "-1"
      ]
     },
     "execution_count": 6,
     "metadata": {},
     "output_type": "execute_result"
    }
   ],
   "source": [
    "cv2.imshow('Original', image1)\n",
    "cv2.waitKey(0) #gri hal gösterildi"
   ]
  },
  {
   "cell_type": "code",
   "execution_count": 7,
   "id": "c82fa488",
   "metadata": {},
   "outputs": [
    {
     "data": {
      "text/plain": [
       "-1"
      ]
     },
     "execution_count": 7,
     "metadata": {},
     "output_type": "execute_result"
    }
   ],
   "source": [
    "# 127'nin altındaki değerler 0'a gider (siyah, üstündeki her şey 255'e (beyaz) gider)\n",
    "ret,thresh1 = cv2.threshold(image1, 127, 255, cv2.THRESH_BINARY)\n",
    "cv2.imshow('1 Threshold Binary', thresh1) \n",
    "cv2.waitKey(0)"
   ]
  },
  {
   "cell_type": "code",
   "execution_count": 7,
   "id": "f7fdf59e",
   "metadata": {},
   "outputs": [
    {
     "data": {
      "text/plain": [
       "-1"
      ]
     },
     "execution_count": 7,
     "metadata": {},
     "output_type": "execute_result"
    }
   ],
   "source": [
    "# 127'nin altındaki değerler 255'e ve 127'nin üzerindeki değerler 0'a gider (yukarıdakinin tersi)\n",
    "ret,thresh2 = cv2.threshold(image1, 127, 255, cv2.THRESH_BINARY_INV)\n",
    "cv2.imshow('2 Threshold Binary Inverse', thresh2)\n",
    "cv2.waitKey(0)"
   ]
  },
  {
   "cell_type": "code",
   "execution_count": 8,
   "id": "96b4c678",
   "metadata": {},
   "outputs": [
    {
     "data": {
      "text/plain": [
       "-1"
      ]
     },
     "execution_count": 8,
     "metadata": {},
     "output_type": "execute_result"
    }
   ],
   "source": [
    "# 127'nin üzerindeki değerler 127'de kesilir (tutulur) (255 argümanı kullanılmaz)\n",
    "ret,thresh3 = cv2.threshold(image1, 127, 255, cv2.THRESH_TRUNC)\n",
    "cv2.imshow('3 THRESH TRUNC', thresh3)\n",
    "cv2.waitKey(0) #127'nin üzerindeki değerler 127'de kesilir"
   ]
  },
  {
   "cell_type": "code",
   "execution_count": 9,
   "id": "8ba1b18c",
   "metadata": {},
   "outputs": [
    {
     "data": {
      "text/plain": [
       "-1"
      ]
     },
     "execution_count": 9,
     "metadata": {},
     "output_type": "execute_result"
    }
   ],
   "source": [
    "# 127'nin altındaki değerler 0'a gider, 127'nin üzerindeki değerler değişmez\n",
    "ret,thresh4 = cv2.threshold(image1, 127, 255, cv2.THRESH_TOZERO)\n",
    "cv2.imshow('4 THRESH TOZERO', thresh4)\n",
    "cv2.waitKey(0)"
   ]
  },
  {
   "cell_type": "code",
   "execution_count": 10,
   "id": "63fe8afc",
   "metadata": {},
   "outputs": [
    {
     "data": {
      "text/plain": [
       "-1"
      ]
     },
     "execution_count": 10,
     "metadata": {},
     "output_type": "execute_result"
    }
   ],
   "source": [
    "# Yukarıyı yedekle, 127'nin altı değişmez, 127'nin üstü 0'a gider\n",
    "ret,thresh5 = cv2.threshold(image1, 127, 255, cv2.THRESH_TOZERO_INV)\n",
    "cv2.imshow('5 THRESH TOZERO INV', thresh5)\n",
    "cv2.waitKey(0) \n"
   ]
  },
  {
   "cell_type": "markdown",
   "id": "239c4933",
   "metadata": {},
   "source": [
    "# Eşiklemeden daha iyi bir yol var mı?"
   ]
  },
  {
   "cell_type": "markdown",
   "id": "41d161d1",
   "metadata": {},
   "source": [
    "Bu basit eşik yöntemlerinin en büyük dezavantajı, eşik değerini (yani daha önce kullandığımız 127 değeri) sağlamamız gerektiğidir.\n"
   ]
  },
  {
   "cell_type": "markdown",
   "id": "b132f32c",
   "metadata": {},
   "source": [
    "Ya bunu yapmanın daha akıllıca bir yolu olsaydı?\n"
   ]
  },
  {
   "cell_type": "markdown",
   "id": "132d1a5c",
   "metadata": {},
   "source": [
    "Var, Uyarlanabilir eşikleme....\n"
   ]
  },
  {
   "cell_type": "code",
   "execution_count": 11,
   "id": "44ddbb76",
   "metadata": {},
   "outputs": [
    {
     "name": "stdout",
     "output_type": "stream",
     "text": [
      "[[60 52 42 ... 20 17 15]\n",
      " [58 45 41 ... 19 18 17]\n",
      " [55 38 43 ... 20 20 20]\n",
      " ...\n",
      " [83 65 39 ... 92 93 93]\n",
      " [70 81 46 ... 93 89 84]\n",
      " [64 94 49 ... 22 15  4]]\n"
     ]
    }
   ],
   "source": [
    "#Yeni bir resim yükleyelim\n",
    "image2 = cv2.imread('DataCV2/Origin_of_Species.jpg', 0)\n",
    "print(image2)\n"
   ]
  },
  {
   "cell_type": "code",
   "execution_count": 12,
   "id": "d07831b6",
   "metadata": {},
   "outputs": [
    {
     "data": {
      "text/plain": [
       "-1"
      ]
     },
     "execution_count": 12,
     "metadata": {},
     "output_type": "execute_result"
    }
   ],
   "source": [
    "cv2.imshow('Original', image2)\n",
    "cv2.waitKey(0) "
   ]
  },
  {
   "cell_type": "code",
   "execution_count": 13,
   "id": "e76a2ea5",
   "metadata": {},
   "outputs": [
    {
     "data": {
      "text/plain": [
       "-1"
      ]
     },
     "execution_count": 13,
     "metadata": {},
     "output_type": "execute_result"
    }
   ],
   "source": [
    "# 127'nin altındaki değerler 0'a gider (siyah, üstündeki her şey 255'e (beyaz) gider)\n",
    "ret,thresh1 = cv2.threshold(image2, 127, 255, cv2.THRESH_BINARY)\n",
    "cv2.imshow('Threshold Binary', thresh1)\n",
    "cv2.waitKey(0) "
   ]
  },
  {
   "cell_type": "code",
   "execution_count": 14,
   "id": "5b2a3016",
   "metadata": {},
   "outputs": [
    {
     "data": {
      "text/plain": [
       "-1"
      ]
     },
     "execution_count": 14,
     "metadata": {},
     "output_type": "execute_result"
    }
   ],
   "source": [
    "# Gürültüyü ortadan kaldırdığı için görüntüleri bulanıklaştırmak iyi bir uygulamadır\n",
    "image2 = cv2.GaussianBlur(image2, (3, 3), 0)\n",
    "cv2.imshow(\"gürültü\", image2) \n",
    "cv2.waitKey(0)"
   ]
  },
  {
   "cell_type": "code",
   "execution_count": 16,
   "id": "dfdc7182",
   "metadata": {},
   "outputs": [
    {
     "data": {
      "text/plain": [
       "-1"
      ]
     },
     "execution_count": 16,
     "metadata": {},
     "output_type": "execute_result"
    }
   ],
   "source": [
    "# adaptiveThreshold'u kullanma\n",
    "thresh = cv2.adaptiveThreshold(image2, 255, cv2.ADAPTIVE_THRESH_MEAN_C, \n",
    "                               cv2.THRESH_BINARY, 3, 5) \n",
    "cv2.imshow(\"Adaptive Mean Thresholding\", thresh) \n",
    "cv2.waitKey(0)"
   ]
  },
  {
   "cell_type": "code",
   "execution_count": 17,
   "id": "35354af1",
   "metadata": {},
   "outputs": [
    {
     "data": {
      "text/plain": [
       "-1"
      ]
     },
     "execution_count": 17,
     "metadata": {},
     "output_type": "execute_result"
    }
   ],
   "source": [
    "_, th2 = cv2.threshold(image2, 0, 255, cv2.THRESH_BINARY + cv2.THRESH_OTSU)\n",
    "cv2.imshow(\"Otsu's Thresholding\", thresh) \n",
    "cv2.waitKey(0) "
   ]
  },
  {
   "cell_type": "code",
   "execution_count": 18,
   "id": "325e5d54",
   "metadata": {},
   "outputs": [
    {
     "data": {
      "text/plain": [
       "-1"
      ]
     },
     "execution_count": 18,
     "metadata": {},
     "output_type": "execute_result"
    }
   ],
   "source": [
    "# Otsu'nun Gauss filtrelemesinden sonraki eşiği\n",
    "blur = cv2.GaussianBlur(image2, (5,5), 0)\n",
    "_, th3 = cv2.threshold(blur, 0, 255, cv2.THRESH_BINARY + cv2.THRESH_OTSU)\n",
    "cv2.imshow(\"Guassian Otsu's Thresholding\", thresh) \n",
    "cv2.waitKey(0) "
   ]
  },
  {
   "cell_type": "code",
   "execution_count": 19,
   "id": "e13cfd5a",
   "metadata": {},
   "outputs": [],
   "source": [
    "import cv2\n",
    "\n",
    "# Görüntüyü yükle\n",
    "img = cv2.imread('DataCV2/image2.png')\n",
    "\n",
    "# Görüntüyü bulanıklaştır\n",
    "blur = cv2.GaussianBlur(img, (5, 5), 0)\n",
    "\n",
    "# Görüntüyü göster\n",
    "cv2.imshow('Original Image', img)\n",
    "cv2.imshow('Blurred Image', blur)\n",
    "\n",
    "# Bekle\n",
    "cv2.waitKey(0)\n",
    "cv2.destroyAllWindows()\n"
   ]
  },
  {
   "cell_type": "code",
   "execution_count": null,
   "id": "39046d04",
   "metadata": {},
   "outputs": [],
   "source": []
  }
 ],
 "metadata": {
  "kernelspec": {
   "display_name": "Python 3 (ipykernel)",
   "language": "python",
   "name": "python3"
  },
  "language_info": {
   "codemirror_mode": {
    "name": "ipython",
    "version": 3
   },
   "file_extension": ".py",
   "mimetype": "text/x-python",
   "name": "python",
   "nbconvert_exporter": "python",
   "pygments_lexer": "ipython3",
   "version": "3.10.9"
  }
 },
 "nbformat": 4,
 "nbformat_minor": 5
}
