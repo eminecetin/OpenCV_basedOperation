{
 "cells": [
  {
   "cell_type": "code",
   "execution_count": 1,
   "id": "f2c48ee3",
   "metadata": {},
   "outputs": [],
   "source": [
    "import cv2\n",
    "import numpy as np"
   ]
  },
  {
   "cell_type": "markdown",
   "id": "4c7bb828",
   "metadata": {},
   "source": [
    "# Tom ve Jerry Resimleri Birleştirme İşlemi"
   ]
  },
  {
   "cell_type": "code",
   "execution_count": 2,
   "id": "37d0a0ec",
   "metadata": {},
   "outputs": [],
   "source": [
    "# Resimleri yükle\n",
    "jerry = cv2.imread(\"DataCV2/jerry.png\")\n",
    "tom = cv2.imread(\"DataCV2/tom.png\")"
   ]
  },
  {
   "cell_type": "code",
   "execution_count": 3,
   "id": "fee09d76",
   "metadata": {},
   "outputs": [],
   "source": [
    "# Resimleri aynı boyuta getir\n",
    "jerry = cv2.resize(jerry, (424, 233))\n",
    "tom = cv2.resize(tom, (424, 233))"
   ]
  },
  {
   "cell_type": "code",
   "execution_count": 4,
   "id": "d11b5a0c",
   "metadata": {},
   "outputs": [],
   "source": [
    "# Resimleri numpy dizisine dönüştür\n",
    "jerry_np = np.array(jerry)\n",
    "tom_np = np.array(tom)"
   ]
  },
  {
   "cell_type": "code",
   "execution_count": 5,
   "id": "b36bedeb",
   "metadata": {},
   "outputs": [],
   "source": [
    "# İki diziyi birleştir\n",
    "result = cv2.add(jerry_np, tom_np)"
   ]
  },
  {
   "cell_type": "code",
   "execution_count": 6,
   "id": "bda11abf",
   "metadata": {},
   "outputs": [
    {
     "data": {
      "text/plain": [
       "-1"
      ]
     },
     "execution_count": 6,
     "metadata": {},
     "output_type": "execute_result"
    }
   ],
   "source": [
    "# Birleştirilmiş resmi göster\n",
    "cv2.imshow(\"img\", result)\n",
    "cv2.waitKey(0)"
   ]
  },
  {
   "cell_type": "code",
   "execution_count": 7,
   "id": "54afd302",
   "metadata": {},
   "outputs": [
    {
     "data": {
      "text/plain": [
       "True"
      ]
     },
     "execution_count": 7,
     "metadata": {},
     "output_type": "execute_result"
    }
   ],
   "source": [
    "# Birleştirilmiş resmi kaydet\n",
    "cv2.imwrite(\"DataCV2/TomAndJerry.png\", result)"
   ]
  },
  {
   "cell_type": "code",
   "execution_count": 11,
   "id": "b166793e",
   "metadata": {},
   "outputs": [],
   "source": [
    "# ----------"
   ]
  },
  {
   "cell_type": "code",
   "execution_count": 8,
   "id": "dc334994",
   "metadata": {},
   "outputs": [],
   "source": [
    "import cv2\n",
    "import numpy as np"
   ]
  },
  {
   "cell_type": "code",
   "execution_count": 9,
   "id": "9c8598f4",
   "metadata": {},
   "outputs": [],
   "source": [
    "# Resimi yükle\n",
    "img = cv2.imread(\"DataCV2/TomAndJerry.png\")"
   ]
  },
  {
   "cell_type": "code",
   "execution_count": 10,
   "id": "d5f484b5",
   "metadata": {},
   "outputs": [
    {
     "data": {
      "text/plain": [
       "-1"
      ]
     },
     "execution_count": 10,
     "metadata": {},
     "output_type": "execute_result"
    }
   ],
   "source": [
    "# Resmi griye dönüştür ve göster\n",
    "gray = cv2.cvtColor(img, cv2.COLOR_BGR2GRAY)\n",
    "cv2.imshow(\"q\", gray)\n",
    "cv2.waitKey(0)"
   ]
  },
  {
   "cell_type": "code",
   "execution_count": 11,
   "id": "97a8905a",
   "metadata": {},
   "outputs": [],
   "source": [
    "# Sınırı belirt\n",
    "thresh = 20"
   ]
  },
  {
   "cell_type": "code",
   "execution_count": 12,
   "id": "c32800b5",
   "metadata": {},
   "outputs": [],
   "source": [
    "# Yeni resmi oluştur\n",
    "result = cv2.threshold(gray, thresh, 255, cv2.THRESH_BINARY)[1]"
   ]
  },
  {
   "cell_type": "code",
   "execution_count": 13,
   "id": "50740b43",
   "metadata": {},
   "outputs": [
    {
     "data": {
      "text/plain": [
       "-1"
      ]
     },
     "execution_count": 13,
     "metadata": {},
     "output_type": "execute_result"
    }
   ],
   "source": [
    "# Resmi göster\n",
    "cv2.imshow(\"Binary Tom and Jerry\", result)\n",
    "cv2.waitKey(0)"
   ]
  },
  {
   "cell_type": "code",
   "execution_count": 14,
   "id": "383f6717",
   "metadata": {},
   "outputs": [
    {
     "data": {
      "text/plain": [
       "True"
      ]
     },
     "execution_count": 14,
     "metadata": {},
     "output_type": "execute_result"
    }
   ],
   "source": [
    "# Resmi kaydet\n",
    "cv2.imwrite(\"DataCV2/TomAndJerryBinary.png\", result)"
   ]
  },
  {
   "cell_type": "markdown",
   "id": "ec7553c1",
   "metadata": {},
   "source": [
    "# Arka Plan Eklemesi Yapma"
   ]
  },
  {
   "cell_type": "code",
   "execution_count": 15,
   "id": "5a0e3cb2",
   "metadata": {},
   "outputs": [],
   "source": [
    "import cv2\n",
    "import numpy as np"
   ]
  },
  {
   "cell_type": "code",
   "execution_count": 16,
   "id": "e15f9528",
   "metadata": {},
   "outputs": [],
   "source": [
    "# Resimleri yükle\n",
    "tom_jerry = cv2.imread(\"DataCV2/TomAndJerry.png\")\n",
    "ap = cv2.imread(\"DataCV2/TomAndJerryArkaPlan.png\")"
   ]
  },
  {
   "cell_type": "code",
   "execution_count": 17,
   "id": "3152493f",
   "metadata": {},
   "outputs": [],
   "source": [
    "# Resimlerin boyutlarını düzelt\n",
    "ap = cv2.resize(ap, (424, 233))"
   ]
  },
  {
   "cell_type": "code",
   "execution_count": 18,
   "id": "fc8c16f1",
   "metadata": {},
   "outputs": [],
   "source": [
    "# Maskeleri Tom ve Jerry'e uygula\n",
    "mask = cv2.cvtColor(tom_jerry, cv2.COLOR_BGR2GRAY)\n",
    "mask = cv2.threshold(mask, 10, 255, cv2.THRESH_BINARY)[1]\n",
    "mask_inv = cv2.bitwise_not(mask)"
   ]
  },
  {
   "cell_type": "code",
   "execution_count": 19,
   "id": "de32eed7",
   "metadata": {},
   "outputs": [],
   "source": [
    "# Resimi oluştur\n",
    "ap = cv2.bitwise_and(ap, ap, mask=mask_inv)\n",
    "img = cv2.bitwise_and(tom_jerry, tom_jerry, mask=mask)\n",
    "result = cv2.add(ap, tom_jerry)"
   ]
  },
  {
   "cell_type": "code",
   "execution_count": 20,
   "id": "230649fa",
   "metadata": {},
   "outputs": [
    {
     "data": {
      "text/plain": [
       "-1"
      ]
     },
     "execution_count": 20,
     "metadata": {},
     "output_type": "execute_result"
    }
   ],
   "source": [
    "# Resimi göster\n",
    "cv2.imshow(\"Tom and Jerry with background\", result)\n",
    "cv2.waitKey(0)"
   ]
  },
  {
   "cell_type": "code",
   "execution_count": 21,
   "id": "3246f7be",
   "metadata": {},
   "outputs": [
    {
     "data": {
      "text/plain": [
       "True"
      ]
     },
     "execution_count": 21,
     "metadata": {},
     "output_type": "execute_result"
    }
   ],
   "source": [
    "# Resmi kaydet\n",
    "cv2.imwrite(\"DataCV2/TomAndJerryWithBackground.png\", result)"
   ]
  },
  {
   "cell_type": "code",
   "execution_count": null,
   "id": "f05d08b0",
   "metadata": {},
   "outputs": [],
   "source": []
  },
  {
   "cell_type": "code",
   "execution_count": null,
   "id": "8c52ae15",
   "metadata": {},
   "outputs": [],
   "source": []
  }
 ],
 "metadata": {
  "kernelspec": {
   "display_name": "Python 3 (ipykernel)",
   "language": "python",
   "name": "python3"
  },
  "language_info": {
   "codemirror_mode": {
    "name": "ipython",
    "version": 3
   },
   "file_extension": ".py",
   "mimetype": "text/x-python",
   "name": "python",
   "nbconvert_exporter": "python",
   "pygments_lexer": "ipython3",
   "version": "3.10.9"
  }
 },
 "nbformat": 4,
 "nbformat_minor": 5
}
