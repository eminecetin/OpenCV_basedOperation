{
 "cells": [
  {
   "cell_type": "code",
   "execution_count": 7,
   "id": "e25c5aaa",
   "metadata": {},
   "outputs": [],
   "source": [
    "import cv2\n",
    "import numpy as np"
   ]
  },
  {
   "cell_type": "markdown",
   "id": "a1d2d79f",
   "metadata": {},
   "source": [
    "# Görüntüyü Açma ve Kaydetme İşlemi"
   ]
  },
  {
   "cell_type": "code",
   "execution_count": 8,
   "id": "bd8e3ee9",
   "metadata": {
    "scrolled": true
   },
   "outputs": [
    {
     "name": "stdout",
     "output_type": "stream",
     "text": [
      "[[[ 24  82  81]\n",
      "  [ 56 117 116]\n",
      "  [ 67 130 129]\n",
      "  ...\n",
      "  [ 31  31  31]\n",
      "  [ 31  31  31]\n",
      "  [ 31  31  31]]\n",
      "\n",
      " [[ 38 101  94]\n",
      "  [ 63 130 123]\n",
      "  [ 71 139 131]\n",
      "  ...\n",
      "  [ 31  31  31]\n",
      "  [ 31  31  31]\n",
      "  [ 31  31  31]]\n",
      "\n",
      " [[ 72 138 127]\n",
      "  [ 76 147 136]\n",
      "  [ 68 139 128]\n",
      "  ...\n",
      "  [ 31  31  31]\n",
      "  [ 31  31  31]\n",
      "  [ 31  31  31]]\n",
      "\n",
      " ...\n",
      "\n",
      " [[167 188 216]\n",
      "  [197 217 248]\n",
      "  [211 231 255]\n",
      "  ...\n",
      "  [ 31  31  31]\n",
      "  [ 31  31  31]\n",
      "  [ 31  31  31]]\n",
      "\n",
      " [[176 193 219]\n",
      "  [198 218 245]\n",
      "  [210 231 255]\n",
      "  ...\n",
      "  [ 31  31  31]\n",
      "  [ 31  31  31]\n",
      "  [ 31  31  31]]\n",
      "\n",
      " [[136 150 187]\n",
      "  [149 167 207]\n",
      "  [152 174 214]\n",
      "  ...\n",
      "  [ 31  31  31]\n",
      "  [ 31  31  31]\n",
      "  [ 31  31  31]]]\n"
     ]
    }
   ],
   "source": [
    "image=cv2.imread('DataCV2/image1.png')\n",
    "print(image)"
   ]
  },
  {
   "cell_type": "code",
   "execution_count": 9,
   "id": "6d298470",
   "metadata": {},
   "outputs": [
    {
     "data": {
      "text/plain": [
       "-1"
      ]
     },
     "execution_count": 9,
     "metadata": {},
     "output_type": "execute_result"
    }
   ],
   "source": [
    "cv2.imshow('image',image)\n",
    "cv2.waitKey(0)"
   ]
  },
  {
   "cell_type": "code",
   "execution_count": null,
   "id": "eaeb9db8",
   "metadata": {},
   "outputs": [],
   "source": []
  },
  {
   "cell_type": "code",
   "execution_count": 10,
   "id": "b483e9b8",
   "metadata": {},
   "outputs": [],
   "source": [
    "cv2.destroyAllWindows()"
   ]
  },
  {
   "cell_type": "code",
   "execution_count": 11,
   "id": "73fb8b9d",
   "metadata": {},
   "outputs": [
    {
     "data": {
      "text/plain": [
       "True"
      ]
     },
     "execution_count": 11,
     "metadata": {},
     "output_type": "execute_result"
    }
   ],
   "source": [
    "cv2.imwrite('new_image.png',image) #kaydetme"
   ]
  },
  {
   "cell_type": "markdown",
   "id": "8a1508eb",
   "metadata": {},
   "source": [
    "# Kaydedilen Görüntüdeki Pikselleri Ekrana Yazdırma"
   ]
  },
  {
   "cell_type": "code",
   "execution_count": 12,
   "id": "9fa29222",
   "metadata": {},
   "outputs": [
    {
     "name": "stdout",
     "output_type": "stream",
     "text": [
      "[[[ 24  82  81]\n",
      "  [ 56 117 116]\n",
      "  [ 67 130 129]\n",
      "  [ 64 134 132]\n",
      "  [ 56 131 127]\n",
      "  [ 67 139 134]\n",
      "  [ 77 141 136]\n",
      "  [ 97 159 153]\n",
      "  [104 172 163]\n",
      "  [105 178 169]]\n",
      "\n",
      " [[ 38 101  94]\n",
      "  [ 63 130 123]\n",
      "  [ 71 139 131]\n",
      "  [ 77 149 140]\n",
      "  [ 70 140 132]\n",
      "  [ 59 122 115]\n",
      "  [ 77 133 127]\n",
      "  [ 92 150 144]\n",
      "  [ 78 144 136]\n",
      "  [ 77 149 141]]\n",
      "\n",
      " [[ 72 138 127]\n",
      "  [ 76 147 136]\n",
      "  [ 68 139 128]\n",
      "  [ 83 153 141]\n",
      "  [ 90 153 144]\n",
      "  [ 88 143 137]\n",
      "  [100 152 146]\n",
      "  [114 169 165]\n",
      "  [ 92 155 150]\n",
      "  [ 69 139 132]]\n",
      "\n",
      " [[ 75 144 133]\n",
      "  [ 77 153 140]\n",
      "  [ 78 153 140]\n",
      "  [ 74 144 132]\n",
      "  [ 70 132 123]\n",
      "  [ 79 134 128]\n",
      "  [107 160 158]\n",
      "  [ 90 147 146]\n",
      "  [ 84 144 145]\n",
      "  [103 166 163]]\n",
      "\n",
      " [[ 67 140 129]\n",
      "  [ 68 150 137]\n",
      "  [ 87 168 155]\n",
      "  [ 67 144 132]\n",
      "  [ 69 138 129]\n",
      "  [ 80 146 140]\n",
      "  [110 174 173]\n",
      "  [ 98 160 163]\n",
      "  [109 169 175]\n",
      "  [125 184 183]]\n",
      "\n",
      " [[ 71 148 136]\n",
      "  [ 68 153 141]\n",
      "  [ 70 158 145]\n",
      "  [ 62 146 135]\n",
      "  [ 69 148 140]\n",
      "  [ 74 152 147]\n",
      "  [ 75 150 149]\n",
      "  [ 77 146 152]\n",
      "  [ 98 161 171]\n",
      "  [104 161 162]]\n",
      "\n",
      " [[ 64 143 132]\n",
      "  [ 72 157 145]\n",
      "  [ 63 148 136]\n",
      "  [ 60 146 136]\n",
      "  [ 74 162 154]\n",
      "  [ 72 162 159]\n",
      "  [ 49 138 138]\n",
      "  [ 54 137 141]\n",
      "  [ 62 136 142]\n",
      "  [140 200 199]]\n",
      "\n",
      " [[ 68 145 136]\n",
      "  [ 73 154 145]\n",
      "  [ 68 149 138]\n",
      "  [ 70 154 144]\n",
      "  [ 72 162 153]\n",
      "  [ 70 165 159]\n",
      "  [ 73 168 165]\n",
      "  [ 71 161 159]\n",
      "  [ 45 129 126]\n",
      "  [ 94 164 156]]\n",
      "\n",
      " [[ 99 166 161]\n",
      "  [ 98 171 164]\n",
      "  [ 79 153 144]\n",
      "  [ 75 154 144]\n",
      "  [ 64 149 138]\n",
      "  [ 61 150 140]\n",
      "  [ 89 179 169]\n",
      "  [ 76 161 152]\n",
      "  [ 60 141 129]\n",
      "  [ 41 112 100]]\n",
      "\n",
      " [[ 79 136 133]\n",
      "  [104 168 162]\n",
      "  [ 93 159 150]\n",
      "  [ 71 142 131]\n",
      "  [ 56 131 119]\n",
      "  [ 47 125 114]\n",
      "  [ 42 120 109]\n",
      "  [ 34 108  95]\n",
      "  [ 44 112  97]\n",
      "  [ 28  88  76]]]\n"
     ]
    }
   ],
   "source": [
    "first_local=image[0:10,0:10]\n",
    "print(first_local)"
   ]
  },
  {
   "cell_type": "code",
   "execution_count": 13,
   "id": "045fe641",
   "metadata": {},
   "outputs": [
    {
     "name": "stdout",
     "output_type": "stream",
     "text": [
      "[ 93 161 149]\n"
     ]
    }
   ],
   "source": [
    "pixel=image[100,200]\n",
    "print(pixel) #belli kısmın piksellerini yazdırma işlemi"
   ]
  },
  {
   "cell_type": "markdown",
   "id": "e7a699f5",
   "metadata": {},
   "source": [
    "# 400x400 Boyutlarında Rastgele 0..255 Arasında Piksel Değerleri Olan Görüntüyü Elde Etme"
   ]
  },
  {
   "cell_type": "code",
   "execution_count": 14,
   "id": "7c8bad12",
   "metadata": {},
   "outputs": [],
   "source": [
    "image2=np.random.randint(0,256,size=(400,400,3),dtype=np.uint8)"
   ]
  },
  {
   "cell_type": "code",
   "execution_count": 39,
   "id": "9b47f59c",
   "metadata": {},
   "outputs": [],
   "source": [
    "piks=np.array([255,128,0], dtype=np.uint8) #kırmızı yeşil mavi"
   ]
  },
  {
   "cell_type": "code",
   "execution_count": 15,
   "id": "0382272e",
   "metadata": {},
   "outputs": [
    {
     "data": {
      "text/plain": [
       "-1"
      ]
     },
     "execution_count": 15,
     "metadata": {},
     "output_type": "execute_result"
    }
   ],
   "source": [
    "cv2.imshow(\"random_image\",image2)\n",
    "cv2.waitKey(0)"
   ]
  },
  {
   "cell_type": "code",
   "execution_count": 16,
   "id": "94ee4426",
   "metadata": {},
   "outputs": [
    {
     "data": {
      "text/plain": [
       "True"
      ]
     },
     "execution_count": 16,
     "metadata": {},
     "output_type": "execute_result"
    }
   ],
   "source": [
    "cv2.imwrite(\"random_image.png\",image2) #kaydetme işlemi"
   ]
  },
  {
   "cell_type": "code",
   "execution_count": 17,
   "id": "5430e242",
   "metadata": {},
   "outputs": [],
   "source": [
    "random_image=cv2.imread(\"random_image.png\")\n",
    "image=cv2.imread('DataCV2/image1.png')\n",
    "#ikisini de okudum"
   ]
  },
  {
   "cell_type": "code",
   "execution_count": 18,
   "id": "56b3b6c6",
   "metadata": {},
   "outputs": [],
   "source": [
    "random_image=cv2.resize(random_image,(image.shape[1],image.shape[0]))#boyutlar eşitleme"
   ]
  },
  {
   "cell_type": "markdown",
   "id": "5d1e5bcb",
   "metadata": {},
   "source": [
    "# Elde Edilen Görüntü ve Kaydedilen Görüntüyü Birleştirme"
   ]
  },
  {
   "cell_type": "code",
   "execution_count": 19,
   "id": "b0959e2f",
   "metadata": {},
   "outputs": [],
   "source": [
    "combine_image=cv2.hconcat([random_image,image])\n",
    "#yatayda birleştirme"
   ]
  },
  {
   "cell_type": "code",
   "execution_count": 20,
   "id": "97c49f4e",
   "metadata": {},
   "outputs": [],
   "source": [
    "cv2.imshow('combined image',combine_image)#resmi göster\n",
    "cv2.waitKey(0)\n",
    "cv2.destroyAllWindows()"
   ]
  }
 ],
 "metadata": {
  "kernelspec": {
   "display_name": "Python 3 (ipykernel)",
   "language": "python",
   "name": "python3"
  },
  "language_info": {
   "codemirror_mode": {
    "name": "ipython",
    "version": 3
   },
   "file_extension": ".py",
   "mimetype": "text/x-python",
   "name": "python",
   "nbconvert_exporter": "python",
   "pygments_lexer": "ipython3",
   "version": "3.10.9"
  }
 },
 "nbformat": 4,
 "nbformat_minor": 5
}
